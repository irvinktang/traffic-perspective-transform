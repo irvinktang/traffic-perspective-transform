{
 "cells": [
  {
   "cell_type": "markdown",
   "metadata": {},
   "source": [
    "todo list: https://trello.com/b/APhmhWw4/robot-vision-project\n",
    "\n",
    "sources:\n",
    "https://answers.opencv.org/question/144252/perspective-transform-without-crop/\n",
    "https://stackoverflow.com/questions/6087241/opencv-warpperspective\n",
    "https://stackoverflow.com/questions/44457064/displaying-stitched-images-together-without-cutoff-using-warpaffine/44459869#44459869"
   ]
  },
  {
   "cell_type": "code",
   "execution_count": 2,
   "metadata": {},
   "outputs": [],
   "source": [
    "import numpy as np\n",
    "import matplotlib.pyplot as plt\n",
    "import cv2\n",
    "from utils import get_four_points\n",
    "%matplotlib inline"
   ]
  },
  {
   "cell_type": "markdown",
   "metadata": {},
   "source": [
    "look into warpPerspective arguments/parameters \n",
    "- there is no argument that will allow me to get the whole warped image to show \n",
    "- what i can do is calculate the homography on the four corners of the original image (the positions) and see where they end up, then all i need to do is translate that warped image so that all of it lies in the 1st quadrant of the coordinate plane \n",
    "\n",
    "background subtraction method\n",
    "\n",
    "ways to get a more accurate warping result:\n",
    "april tags/four edges/pairwise intersection \n",
    "take a look at the vanishing points for the crosswalk markings\n",
    "\n",
    "add tracking of moving objects\n",
    "\n",
    "object detection\n",
    "bounding box, center point as position on ground\n",
    "\n",
    "cornernet with pytorch - more accurate object detection \n"
   ]
  },
  {
   "cell_type": "code",
   "execution_count": null,
   "metadata": {},
   "outputs": [],
   "source": [
    "# getting homography matrix\n",
    "cap = cv2.VideoCapture('./video_data/columbus_at_wash1.mkv')\n",
    "\n",
    "if not cap.isOpened():\n",
    "    print(\"Error opening\")\n",
    "else:\n",
    "    while True:\n",
    "        ret, frame = cap.read()\n",
    "        if not ret: \n",
    "            break\n",
    "            \n",
    "        cv2.imshow(\"img\", frame)\n",
    "        cv2.waitKey(0)\n",
    "\n",
    "cap.release()\n",
    "cv2.destroyAllWindows()"
   ]
  },
  {
   "cell_type": "code",
   "execution_count": 3,
   "metadata": {},
   "outputs": [],
   "source": [
    "# getting homography matrix\n",
    "cap = cv2.VideoCapture('./video_data/columbus_at_wash1.mkv')\n",
    "\n",
    "if not cap.isOpened():\n",
    "    print(\"Error opening\")\n",
    "else:\n",
    "    ret, frame = cap.read()\n",
    "    size = (20,100,3)\n",
    "    \n",
    "    # points the source will get mapped to \n",
    "    pts_dst = np.array([\n",
    "        [800,800],\n",
    "        [800+size[0]-1,800],\n",
    "        [800+size[0]-1,800+size[1]-1],\n",
    "        [800,800+size[1]-1]],dtype=float)\n",
    "    \n",
    "    \n",
    "    # need to start from top left and end with bottom left\n",
    "    pts_src = get_four_points(frame)"
   ]
  },
  {
   "cell_type": "code",
   "execution_count": 13,
   "metadata": {},
   "outputs": [
    {
     "name": "stdout",
     "output_type": "stream",
     "text": [
      "-2150.5977593644548\n",
      "-12170.668140497146\n",
      "-0.0001567661718623023\n",
      "-0.004065025656033303\n",
      "(4000, 6000, 3)\n",
      "(6000, 4000, 3)\n"
     ]
    }
   ],
   "source": [
    "cap = cv2.VideoCapture('./video_data/columbus_at_wash1.mkv')\n",
    "if not cap.isOpened():\n",
    "    print(\"Error opening\")\n",
    "else:\n",
    "    ret, frame = cap.read()\n",
    "    \n",
    "    # height/width to get the coordinates of four corners of original image\n",
    "    height, width = frame.shape[:2]\n",
    "    topleft = [0,0,1]\n",
    "    topright = [0,width,1]\n",
    "    bottomleft = [height,0,1]\n",
    "    bottomright = [height,width,1]\n",
    "    \n",
    "    h, status = cv2.findHomography(pts_src, pts_dst)\n",
    "    \n",
    "    # find where the four corners lie after homography \n",
    "    topleftH = np.dot(topleft,h)\n",
    "    toprightH = np.dot(topright,h)\n",
    "    botleftH = np.dot(bottomleft,h)\n",
    "    botrightH = np.dot(bottomright,h)\n",
    "    \n",
    "    # figure out the minimum values\n",
    "    x_coord = np.array([topleftH[0],toprightH[0],botleftH[0],botrightH[0]])\n",
    "    y_coord = np.array([topleftH[1],toprightH[1],botleftH[1],botrightH[1]])\n",
    "    x_min = np.min(x_coord)\n",
    "    y_min = np.min(y_coord)\n",
    "    x_max = np.max(x_coord)\n",
    "    y_max = np.max(y_coord)\n",
    "    print(x_min)\n",
    "    print(y_min)\n",
    "    print(x_max)\n",
    "    print(y_max)\n",
    "    \n",
    "    # calculate warped image size using min/max values\n",
    "#     newsize = (np.ceil(x_max - x_min).astype(int)//8, \n",
    "#                np.ceil(y_max - y_min).astype(int)//8, 3)\n",
    "    newsize = (4000,6000,3)\n",
    "    \n",
    "    im_dst = np.zeros(newsize, np.uint8)\n",
    "    \n",
    "    # use the minimums to create translation matrix\n",
    "#     translate = np.array([\n",
    "#         [1,0,-x_min],\n",
    "#         [0,1,-y_min],\n",
    "#         [0,0,1]\n",
    "#     ])\n",
    "    \n",
    "    translate = np.array([\n",
    "        [1,0,100],\n",
    "        [0,1,3000],\n",
    "        [0,0,1]\n",
    "    ])\n",
    "    \n",
    "    # multiply homography and translation to get total transformation\n",
    "    transform = np.dot(translate,h)\n",
    "    \n",
    "    while cap.isOpened():\n",
    "        ret, frame = cap.read()\n",
    "        if ret:\n",
    "#             im_dst = cv2.warpPerspective(frame, h, newsize[0:2])\n",
    "            im_dst = cv2.warpPerspective(frame, transform, newsize[0:2])\n",
    "            height, width = im_dst.shape[:2]\n",
    "            newimage = cv2.resize(im_dst, (width//4, height//4))\n",
    "            cv2.imshow(\"image\", newimage)\n",
    "#             cv2.imshow(\"image\", im_dst)\n",
    "            if cv2.waitKey(1) == ord('q'):\n",
    "                break \n",
    "    \n",
    "    print(newsize)\n",
    "    print(im_dst.shape)\n",
    "    \n",
    "cap.release()\n",
    "cv2.destroyAllWindows()"
   ]
  },
  {
   "cell_type": "code",
   "execution_count": null,
   "metadata": {},
   "outputs": [],
   "source": []
  }
 ],
 "metadata": {
  "kernelspec": {
   "display_name": "Python 3",
   "language": "python",
   "name": "python3"
  },
  "language_info": {
   "codemirror_mode": {
    "name": "ipython",
    "version": 3
   },
   "file_extension": ".py",
   "mimetype": "text/x-python",
   "name": "python",
   "nbconvert_exporter": "python",
   "pygments_lexer": "ipython3",
   "version": "3.7.4"
  }
 },
 "nbformat": 4,
 "nbformat_minor": 2
}
